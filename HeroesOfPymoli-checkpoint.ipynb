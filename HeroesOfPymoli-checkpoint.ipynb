{
 "cells": [
  {
   "cell_type": "markdown",
   "metadata": {},
   "source": [
    "### Note\n",
    "* Instructions have been included for each segment. You do not have to follow them exactly, but they are included to help you think through the steps."
   ]
  },
  {
   "cell_type": "code",
   "execution_count": 25,
   "metadata": {},
   "outputs": [],
   "source": [
    "# Dependencies and Setup\n",
    "import pandas as pd\n",
    "\n",
    "# File to Load (Remember to Change These)\n",
    "file_to_load = \"Resources/purchase_data.csv\"\n",
    "\n",
    "# Read Purchasing File and store into Pandas data frame\n",
    "purchase_data_df = pd.read_csv(file_to_load)"
   ]
  },
  {
   "cell_type": "markdown",
   "metadata": {},
   "source": [
    "## Player Count"
   ]
  },
  {
   "cell_type": "markdown",
   "metadata": {},
   "source": [
    "* Display the total number of players\n"
   ]
  },
  {
   "cell_type": "code",
   "execution_count": 41,
   "metadata": {},
   "outputs": [
    {
     "data": {
      "text/html": [
       "<div>\n",
       "<style scoped>\n",
       "    .dataframe tbody tr th:only-of-type {\n",
       "        vertical-align: middle;\n",
       "    }\n",
       "\n",
       "    .dataframe tbody tr th {\n",
       "        vertical-align: top;\n",
       "    }\n",
       "\n",
       "    .dataframe thead th {\n",
       "        text-align: right;\n",
       "    }\n",
       "</style>\n",
       "<table border=\"1\" class=\"dataframe\">\n",
       "  <thead>\n",
       "    <tr style=\"text-align: right;\">\n",
       "      <th></th>\n",
       "      <th>Purchase ID</th>\n",
       "      <th>SN</th>\n",
       "      <th>Age</th>\n",
       "      <th>Gender</th>\n",
       "      <th>Item ID</th>\n",
       "      <th>Item Name</th>\n",
       "      <th>Price</th>\n",
       "    </tr>\n",
       "  </thead>\n",
       "  <tbody>\n",
       "    <tr>\n",
       "      <td>0</td>\n",
       "      <td>0</td>\n",
       "      <td>Lisim78</td>\n",
       "      <td>20</td>\n",
       "      <td>Male</td>\n",
       "      <td>108</td>\n",
       "      <td>Extraction, Quickblade Of Trembling Hands</td>\n",
       "      <td>3.53</td>\n",
       "    </tr>\n",
       "    <tr>\n",
       "      <td>1</td>\n",
       "      <td>1</td>\n",
       "      <td>Lisovynya38</td>\n",
       "      <td>40</td>\n",
       "      <td>Male</td>\n",
       "      <td>143</td>\n",
       "      <td>Frenzied Scimitar</td>\n",
       "      <td>1.56</td>\n",
       "    </tr>\n",
       "    <tr>\n",
       "      <td>2</td>\n",
       "      <td>2</td>\n",
       "      <td>Ithergue48</td>\n",
       "      <td>24</td>\n",
       "      <td>Male</td>\n",
       "      <td>92</td>\n",
       "      <td>Final Critic</td>\n",
       "      <td>4.88</td>\n",
       "    </tr>\n",
       "    <tr>\n",
       "      <td>3</td>\n",
       "      <td>3</td>\n",
       "      <td>Chamassasya86</td>\n",
       "      <td>24</td>\n",
       "      <td>Male</td>\n",
       "      <td>100</td>\n",
       "      <td>Blindscythe</td>\n",
       "      <td>3.27</td>\n",
       "    </tr>\n",
       "    <tr>\n",
       "      <td>4</td>\n",
       "      <td>4</td>\n",
       "      <td>Iskosia90</td>\n",
       "      <td>23</td>\n",
       "      <td>Male</td>\n",
       "      <td>131</td>\n",
       "      <td>Fury</td>\n",
       "      <td>1.44</td>\n",
       "    </tr>\n",
       "  </tbody>\n",
       "</table>\n",
       "</div>"
      ],
      "text/plain": [
       "   Purchase ID             SN  Age Gender  Item ID  \\\n",
       "0            0        Lisim78   20   Male      108   \n",
       "1            1    Lisovynya38   40   Male      143   \n",
       "2            2     Ithergue48   24   Male       92   \n",
       "3            3  Chamassasya86   24   Male      100   \n",
       "4            4      Iskosia90   23   Male      131   \n",
       "\n",
       "                                   Item Name  Price  \n",
       "0  Extraction, Quickblade Of Trembling Hands   3.53  \n",
       "1                          Frenzied Scimitar   1.56  \n",
       "2                               Final Critic   4.88  \n",
       "3                                Blindscythe   3.27  \n",
       "4                                       Fury   1.44  "
      ]
     },
     "execution_count": 41,
     "metadata": {},
     "output_type": "execute_result"
    }
   ],
   "source": [
    "purchase_data_df.head()"
   ]
  },
  {
   "cell_type": "code",
   "execution_count": 58,
   "metadata": {},
   "outputs": [
    {
     "name": "stdout",
     "output_type": "stream",
     "text": [
      "<bound method Series.count of 0            Lisim78\n",
      "1        Lisovynya38\n",
      "2         Ithergue48\n",
      "3      Chamassasya86\n",
      "4          Iskosia90\n",
      "           ...      \n",
      "775       Aethedru70\n",
      "776           Iral74\n",
      "777       Yathecal72\n",
      "778          Sisur91\n",
      "779        Ennrian78\n",
      "Name: SN, Length: 780, dtype: object>\n"
     ]
    }
   ],
   "source": [
    "purchase_data_df.head()\n",
    "#purchase_data_df.count()\n",
    "total_players= purchase_data_df[\"SN\"].count\n",
    "print(total_players)\n",
    "\n"
   ]
  },
  {
   "cell_type": "code",
   "execution_count": 59,
   "metadata": {},
   "outputs": [
    {
     "data": {
      "text/html": [
       "<div>\n",
       "<style scoped>\n",
       "    .dataframe tbody tr th:only-of-type {\n",
       "        vertical-align: middle;\n",
       "    }\n",
       "\n",
       "    .dataframe tbody tr th {\n",
       "        vertical-align: top;\n",
       "    }\n",
       "\n",
       "    .dataframe thead th {\n",
       "        text-align: right;\n",
       "    }\n",
       "</style>\n",
       "<table border=\"1\" class=\"dataframe\">\n",
       "  <thead>\n",
       "    <tr style=\"text-align: right;\">\n",
       "      <th></th>\n",
       "      <th>Purchase ID</th>\n",
       "      <th>Age</th>\n",
       "      <th>Gender</th>\n",
       "      <th>Item ID</th>\n",
       "      <th>Item Name</th>\n",
       "      <th>Price</th>\n",
       "    </tr>\n",
       "    <tr>\n",
       "      <th>SN</th>\n",
       "      <th></th>\n",
       "      <th></th>\n",
       "      <th></th>\n",
       "      <th></th>\n",
       "      <th></th>\n",
       "      <th></th>\n",
       "    </tr>\n",
       "  </thead>\n",
       "  <tbody>\n",
       "    <tr>\n",
       "      <td>Lisim78</td>\n",
       "      <td>0</td>\n",
       "      <td>20</td>\n",
       "      <td>Male</td>\n",
       "      <td>108</td>\n",
       "      <td>Extraction, Quickblade Of Trembling Hands</td>\n",
       "      <td>3.53</td>\n",
       "    </tr>\n",
       "    <tr>\n",
       "      <td>Lisovynya38</td>\n",
       "      <td>1</td>\n",
       "      <td>40</td>\n",
       "      <td>Male</td>\n",
       "      <td>143</td>\n",
       "      <td>Frenzied Scimitar</td>\n",
       "      <td>1.56</td>\n",
       "    </tr>\n",
       "    <tr>\n",
       "      <td>Ithergue48</td>\n",
       "      <td>2</td>\n",
       "      <td>24</td>\n",
       "      <td>Male</td>\n",
       "      <td>92</td>\n",
       "      <td>Final Critic</td>\n",
       "      <td>4.88</td>\n",
       "    </tr>\n",
       "    <tr>\n",
       "      <td>Chamassasya86</td>\n",
       "      <td>3</td>\n",
       "      <td>24</td>\n",
       "      <td>Male</td>\n",
       "      <td>100</td>\n",
       "      <td>Blindscythe</td>\n",
       "      <td>3.27</td>\n",
       "    </tr>\n",
       "    <tr>\n",
       "      <td>Iskosia90</td>\n",
       "      <td>4</td>\n",
       "      <td>23</td>\n",
       "      <td>Male</td>\n",
       "      <td>131</td>\n",
       "      <td>Fury</td>\n",
       "      <td>1.44</td>\n",
       "    </tr>\n",
       "  </tbody>\n",
       "</table>\n",
       "</div>"
      ],
      "text/plain": [
       "               Purchase ID  Age Gender  Item ID  \\\n",
       "SN                                                \n",
       "Lisim78                  0   20   Male      108   \n",
       "Lisovynya38              1   40   Male      143   \n",
       "Ithergue48               2   24   Male       92   \n",
       "Chamassasya86            3   24   Male      100   \n",
       "Iskosia90                4   23   Male      131   \n",
       "\n",
       "                                               Item Name  Price  \n",
       "SN                                                               \n",
       "Lisim78        Extraction, Quickblade Of Trembling Hands   3.53  \n",
       "Lisovynya38                            Frenzied Scimitar   1.56  \n",
       "Ithergue48                                  Final Critic   4.88  \n",
       "Chamassasya86                                Blindscythe   3.27  \n",
       "Iskosia90                                           Fury   1.44  "
      ]
     },
     "execution_count": 59,
     "metadata": {},
     "output_type": "execute_result"
    }
   ],
   "source": [
    "#group by the player name (SN)\n",
    "SaleName_index_df=purchase_data_df.set_index(\"SN\")\n",
    "SaleName_index_df.head()"
   ]
  },
  {
   "cell_type": "markdown",
   "metadata": {},
   "source": [
    "## Purchasing Analysis (Total)"
   ]
  },
  {
   "cell_type": "markdown",
   "metadata": {},
   "source": [
    "* Run basic calculations to obtain number of unique items, average price, etc.\n",
    "\n",
    "\n",
    "* Create a summary data frame to hold the results\n",
    "\n",
    "\n",
    "* Optional: give the displayed data cleaner formatting\n",
    "\n",
    "\n",
    "* Display the summary data frame\n"
   ]
  },
  {
   "cell_type": "code",
   "execution_count": 28,
   "metadata": {},
   "outputs": [
    {
     "name": "stdout",
     "output_type": "stream",
     "text": [
      "['Abyssal Shard' 'Aetherius, Boon of the Blessed' 'Agatha' 'Alpha'\n",
      " 'Alpha, Oath of Zeal' 'Alpha, Reach of Ending Hope' 'Amnesia'\n",
      " 'Apocalyptic Battlescythe' 'Arcane Gem' 'Avenger' 'Azurewrath'\n",
      " 'Betrayal, Whisper of Grieving Widows' 'Betrayer' 'Blade of the Grave'\n",
      " 'Blazefury, Protector of Delusions' 'Blazeguard, Reach of Eternity'\n",
      " 'Blindscythe' 'Blood Infused Guardian' 'Blood-Forged Skeletal Spine'\n",
      " \"Bloodlord's Fetish\" 'Bone Crushing Silver Skewer'\n",
      " 'Bonecarvin Battle Axe' 'Brimstone' 'Brutality Ivory Warmace' 'Celeste'\n",
      " 'Celeste, Incarnation of the Corrupted' 'Chaos, Ender of the End'\n",
      " 'Conqueror Adamantite Mace' 'Crucifer' 'Crying Steel Sickle' 'Curved Axe'\n",
      " 'Darkheart' 'Darkheart, Butcher of the Champion' 'Dawn' 'Dawne'\n",
      " 'Deadline, Voice Of Subtlety' 'Deathraze' 'Deluge, Edge of the West'\n",
      " 'Demise' 'Despair, Favor of Due Diligence' 'Devine'\n",
      " 'Downfall, Scalpel Of The Emperor' \"Dragon's Greatsword\" 'Dreamkiss'\n",
      " 'Dreamsong' 'Emberling, Defender of Delusions' 'Endbringer'\n",
      " 'Eternal Cleaver' 'Exiled Doomblade' 'Exiled Mithril Longsword'\n",
      " 'Expiration, Warscythe Of Lost Worlds'\n",
      " 'Extraction, Quickblade Of Trembling Hands' \"Faith's Scimitar\"\n",
      " 'Fate, Vengeance of Eternal Justice' 'Feral Katana'\n",
      " 'Fiery Glass Crusader' 'Final Critic' 'Flux, Destroyer of Due Diligence'\n",
      " 'Foul Edge' 'Foul Titanium Battle Axe'\n",
      " \"Freak's Bite, Favor of Holy Might\" 'Frenzied Scimitar'\n",
      " 'Frenzy, Defender of the Harvest' 'Fury' 'Fusion Pummel'\n",
      " 'Ghastly Adamantite Protector' 'Ghost Reaver, Longsword of Magic'\n",
      " \"Gladiator's Glaive\" 'Glimmer, Ender of the Moon' 'Glinting Glass Edge'\n",
      " 'Hailstorm Shadowsteel Scythe' 'Hatred' 'Haunted Bronzed Bludgeon'\n",
      " 'Heartless Bone Dualblade' 'Heartseeker, Reaver of Souls'\n",
      " 'Heartstriker, Legacy of the Light' 'Hellreaver, Heirloom of Inception'\n",
      " 'Hero Cane' \"Hope's End\" 'Hopeless Ebon Dualblade'\n",
      " 'Interrogator, Blood Blade of the Queen' 'Lazarus, Terror of the Earth'\n",
      " 'Lifebender' 'Lightning, Etcher of the King'\n",
      " 'Malice, Legacy of the Queen' 'Malificent Bag' 'Massacre'\n",
      " 'Mercenary Sabre' 'Mercy, Katana of Dismay' \"Misery's End\"\n",
      " 'Mourning Blade' 'Netherbane' 'Nirvana'\n",
      " 'Oathbreaker, Last Hope of the Breaking Storm'\n",
      " 'Oathbreaker, Spellblade of Trials' 'Orbit' 'Orenmir'\n",
      " 'Peacekeeper, Wit of Dark Magic' 'Persuasion' 'Phantomlight'\n",
      " 'Piece Maker' 'Piety, Guardian of Riddles' 'Possessed Core'\n",
      " 'Primitive Blade' 'Purgatory, Gem of Regret'\n",
      " 'Pursuit, Cudgel of Necromancy' 'Putrid Fan'\n",
      " 'Rage, Legacy of the Lone Victor' 'Ragnarok' \"Reaper's Toll\"\n",
      " 'Relentless Iron Skewer' 'Renewed Skeletal Katana' 'Restored Bauble'\n",
      " 'Retribution Axe' 'Riddle, Tribute of Ended Dreams' 'Righteous Might'\n",
      " 'Ritual Mace' 'Rusty Skull' 'Scalpel' 'Second Chance' 'Serenity'\n",
      " 'Severance' 'Shadow Strike, Glory of Ending Hope' 'Shadowsteel'\n",
      " 'Singed Onyx Warscythe' 'Singed Scalpel' 'Sleepwalker'\n",
      " \"Solitude's Reaver\" 'Soul Infused Crystal' 'Soul-Forged Steel Shortsword'\n",
      " 'Souleater' 'Spada, Etcher of Hatred' 'Spectral Diamond Doomblade'\n",
      " 'Splinter' 'Splitter, Foe Of Subtlety'\n",
      " 'Storm-Weaver, Slayer of Inception'\n",
      " 'Stormbringer, Dark Blade of Ending Misery' 'Stormcaller'\n",
      " 'Stormfury Lantern' 'Stormfury Longsword' 'Stormfury Mace' 'Striker'\n",
      " 'Sun Strike, Jaws of Twisted Visions' 'Suspension'\n",
      " 'Swan Song, Gouger Of Terror' 'The Decapitator'\n",
      " 'The Oculus, Token of Lost Worlds' 'The Void, Vengeance of Dark Magic'\n",
      " 'Thirsty Iron Reaver' 'Thorn, Conqueror of the Corrupted'\n",
      " 'Thorn, Satchel of Dark Souls' 'Thunderfury Scimitar' 'Toothpick'\n",
      " 'Torchlight, Bond of Storms' 'Tranquility, Razor of Black Magic'\n",
      " 'Trickster' \"Twilight's Carver\" 'Undead Crusader' 'Unending Tyranny'\n",
      " 'Unholy Wand' 'Vengeance Cleaver' 'Venom Claymore' 'Verdict'\n",
      " 'Victor Iron Spikes' 'Vindictive Glass Edge' 'War-Forged Gold Deflector'\n",
      " \"Warmonger, Gift of Suffering's End\" 'Warped Diamond Crusader'\n",
      " 'Warped Fetish' 'Warped Iron Scimitar' 'Whistling Mithril Warblade'\n",
      " \"Winter's Bite\" 'Winterthorn, Defender of Shifting Worlds'\n",
      " 'Woeful Adamantite Claymore' 'Wolf' 'Wolf, Promise of the Moonwalker'\n",
      " 'Worldbreaker' 'Yearning Crusher' 'Yearning Mageblade']\n",
      "Final Critic                                    13\n",
      "Oathbreaker, Last Hope of the Breaking Storm    12\n",
      "Nirvana                                          9\n",
      "Persuasion                                       9\n",
      "Extraction, Quickblade Of Trembling Hands        9\n",
      "                                                ..\n",
      "Alpha, Reach of Ending Hope                      1\n",
      "Endbringer                                       1\n",
      "Undead Crusader                                  1\n",
      "Ghost Reaver, Longsword of Magic                 1\n",
      "Celeste                                          1\n",
      "Name: Item Name, Length: 179, dtype: int64\n"
     ]
    }
   ],
   "source": [
    "SaleName_index_df.head()\n",
    "SaleName_index_df.loc[:, [\"Item Name\", \"Price\"]].head()\n",
    "unique_items = SaleName_index_df[\"Item Name\"].unique()\n",
    "unique_items.sort()\n",
    "print(unique_items)\n",
    "unique_counts = SaleName_index_df[\"Item Name\"].value_counts()\n",
    "#number of unique items\n",
    "print(unique_counts)"
   ]
  },
  {
   "cell_type": "code",
   "execution_count": 46,
   "metadata": {},
   "outputs": [
    {
     "name": "stdout",
     "output_type": "stream",
     "text": [
      "$3.050987179487176\n"
     ]
    }
   ],
   "source": [
    "#group by the unique items\n",
    "group_unique_items_df=SaleName_index_df.groupby([\"Item Name\"])\n",
    "group_unique_items_df\n",
    "group_unique_items_df.count().head(10)\n",
    "#find the mean price of each unique item\n",
    "group_unique_items_df[\"Price\"].mean()\n",
    "#find the total mean price\n",
    "total_average_price=purchase_data_df[\"Price\"].mean()\n",
    "print(\"$\"+ str(total_average_price))"
   ]
  },
  {
   "cell_type": "code",
   "execution_count": 61,
   "metadata": {},
   "outputs": [
    {
     "name": "stdout",
     "output_type": "stream",
     "text": [
      "$2379.77\n"
     ]
    }
   ],
   "source": [
    "#find the total revenue. take the sum of the price column\n",
    "total_revenue = SaleName_index_df[\"Price\"].sum()\n",
    "print(\"$\"+ str(total_revenue))"
   ]
  },
  {
   "cell_type": "code",
   "execution_count": 98,
   "metadata": {},
   "outputs": [
    {
     "data": {
      "text/html": [
       "<div>\n",
       "<style scoped>\n",
       "    .dataframe tbody tr th:only-of-type {\n",
       "        vertical-align: middle;\n",
       "    }\n",
       "\n",
       "    .dataframe tbody tr th {\n",
       "        vertical-align: top;\n",
       "    }\n",
       "\n",
       "    .dataframe thead th {\n",
       "        text-align: right;\n",
       "    }\n",
       "</style>\n",
       "<table border=\"1\" class=\"dataframe\">\n",
       "  <thead>\n",
       "    <tr style=\"text-align: right;\">\n",
       "      <th></th>\n",
       "      <th>Total Items Purchased</th>\n",
       "      <th>Average Price</th>\n",
       "      <th>Total Revenue</th>\n",
       "    </tr>\n",
       "  </thead>\n",
       "  <tbody>\n",
       "    <tr>\n",
       "      <td>Final Critic</td>\n",
       "      <td>13</td>\n",
       "      <td>3.050987</td>\n",
       "      <td>2379.77</td>\n",
       "    </tr>\n",
       "    <tr>\n",
       "      <td>Oathbreaker, Last Hope of the Breaking Storm</td>\n",
       "      <td>12</td>\n",
       "      <td>3.050987</td>\n",
       "      <td>2379.77</td>\n",
       "    </tr>\n",
       "    <tr>\n",
       "      <td>Nirvana</td>\n",
       "      <td>9</td>\n",
       "      <td>3.050987</td>\n",
       "      <td>2379.77</td>\n",
       "    </tr>\n",
       "    <tr>\n",
       "      <td>Persuasion</td>\n",
       "      <td>9</td>\n",
       "      <td>3.050987</td>\n",
       "      <td>2379.77</td>\n",
       "    </tr>\n",
       "    <tr>\n",
       "      <td>Extraction, Quickblade Of Trembling Hands</td>\n",
       "      <td>9</td>\n",
       "      <td>3.050987</td>\n",
       "      <td>2379.77</td>\n",
       "    </tr>\n",
       "  </tbody>\n",
       "</table>\n",
       "</div>"
      ],
      "text/plain": [
       "                                              Total Items Purchased  \\\n",
       "Final Critic                                                     13   \n",
       "Oathbreaker, Last Hope of the Breaking Storm                     12   \n",
       "Nirvana                                                           9   \n",
       "Persuasion                                                        9   \n",
       "Extraction, Quickblade Of Trembling Hands                         9   \n",
       "\n",
       "                                              Average Price  Total Revenue  \n",
       "Final Critic                                       3.050987        2379.77  \n",
       "Oathbreaker, Last Hope of the Breaking Storm       3.050987        2379.77  \n",
       "Nirvana                                            3.050987        2379.77  \n",
       "Persuasion                                         3.050987        2379.77  \n",
       "Extraction, Quickblade Of Trembling Hands          3.050987        2379.77  "
      ]
     },
     "execution_count": 98,
     "metadata": {},
     "output_type": "execute_result"
    }
   ],
   "source": [
    "#now make a summary table\n",
    "unique_items_summary_table = pd.DataFrame({\"Total Items Purchased\": unique_counts,\n",
    "                                    \"Average Price\": total_average_price,\n",
    "                                    \"Total Revenue\": total_revenue})\n",
    "unique_items_summary_table.head()\n"
   ]
  },
  {
   "cell_type": "markdown",
   "metadata": {
    "scrolled": true
   },
   "source": []
  },
  {
   "cell_type": "markdown",
   "metadata": {},
   "source": [
    "## Gender Demographics"
   ]
  },
  {
   "cell_type": "markdown",
   "metadata": {},
   "source": [
    "* Percentage and Count of Male Players\n",
    "\n",
    "\n",
    "* Percentage and Count of Female Players\n",
    "\n",
    "\n",
    "* Percentage and Count of Other / Non-Disclosed\n",
    "\n",
    "\n"
   ]
  },
  {
   "cell_type": "code",
   "execution_count": 74,
   "metadata": {},
   "outputs": [
    {
     "data": {
      "text/plain": [
       "Male                     652\n",
       "Female                   113\n",
       "Other / Non-Disclosed     15\n",
       "Name: Gender, dtype: int64"
      ]
     },
     "execution_count": 74,
     "metadata": {},
     "output_type": "execute_result"
    }
   ],
   "source": [
    "gender_count = purchase_data_df[\"Gender\"].value_counts()\n",
    "gender_count\n"
   ]
  },
  {
   "cell_type": "code",
   "execution_count": 84,
   "metadata": {},
   "outputs": [
    {
     "data": {
      "text/plain": [
       "780"
      ]
     },
     "execution_count": 84,
     "metadata": {},
     "output_type": "execute_result"
    }
   ],
   "source": [
    "player_count= purchase_data_df[\"Gender\"].count()\n",
    "player_count"
   ]
  },
  {
   "cell_type": "code",
   "execution_count": 92,
   "metadata": {},
   "outputs": [
    {
     "data": {
      "text/plain": [
       "Male                     0.835897\n",
       "Female                   0.144872\n",
       "Other / Non-Disclosed    0.019231\n",
       "Name: Gender, dtype: float64"
      ]
     },
     "execution_count": 92,
     "metadata": {},
     "output_type": "execute_result"
    }
   ],
   "source": [
    "percentage_of_players = gender_count/player_count\n",
    "percentage_of_players"
   ]
  },
  {
   "cell_type": "code",
   "execution_count": 94,
   "metadata": {},
   "outputs": [
    {
     "data": {
      "text/html": [
       "<div>\n",
       "<style scoped>\n",
       "    .dataframe tbody tr th:only-of-type {\n",
       "        vertical-align: middle;\n",
       "    }\n",
       "\n",
       "    .dataframe tbody tr th {\n",
       "        vertical-align: top;\n",
       "    }\n",
       "\n",
       "    .dataframe thead th {\n",
       "        text-align: right;\n",
       "    }\n",
       "</style>\n",
       "<table border=\"1\" class=\"dataframe\">\n",
       "  <thead>\n",
       "    <tr style=\"text-align: right;\">\n",
       "      <th></th>\n",
       "      <th>Total Count</th>\n",
       "      <th>Percentage of Players (decimal)</th>\n",
       "    </tr>\n",
       "  </thead>\n",
       "  <tbody>\n",
       "    <tr>\n",
       "      <td>Male</td>\n",
       "      <td>652</td>\n",
       "      <td>0.835897</td>\n",
       "    </tr>\n",
       "    <tr>\n",
       "      <td>Female</td>\n",
       "      <td>113</td>\n",
       "      <td>0.144872</td>\n",
       "    </tr>\n",
       "    <tr>\n",
       "      <td>Other / Non-Disclosed</td>\n",
       "      <td>15</td>\n",
       "      <td>0.019231</td>\n",
       "    </tr>\n",
       "  </tbody>\n",
       "</table>\n",
       "</div>"
      ],
      "text/plain": [
       "                       Total Count  Percentage of Players (decimal)\n",
       "Male                           652                         0.835897\n",
       "Female                         113                         0.144872\n",
       "Other / Non-Disclosed           15                         0.019231"
      ]
     },
     "execution_count": 94,
     "metadata": {},
     "output_type": "execute_result"
    }
   ],
   "source": [
    "gender_summary_table= pd.DataFrame({\"Total Count\": gender_count,\n",
    "                                    \"Percentage of Players (decimal)\": percentage_of_players\n",
    "                                   })\n",
    "gender_summary_table"
   ]
  },
  {
   "cell_type": "markdown",
   "metadata": {},
   "source": [
    "\n",
    "## Purchasing Analysis (Gender)"
   ]
  },
  {
   "cell_type": "markdown",
   "metadata": {},
   "source": [
    "* Run basic calculations to obtain purchase count, avg. purchase price, avg. purchase total per person etc. by gender\n",
    "\n",
    "\n",
    "\n",
    "\n",
    "* Create a summary data frame to hold the results\n",
    "\n",
    "\n",
    "* Optional: give the displayed data cleaner formatting\n",
    "\n",
    "\n",
    "* Display the summary data frame"
   ]
  },
  {
   "cell_type": "code",
   "execution_count": 116,
   "metadata": {},
   "outputs": [
    {
     "data": {
      "text/html": [
       "<div>\n",
       "<style scoped>\n",
       "    .dataframe tbody tr th:only-of-type {\n",
       "        vertical-align: middle;\n",
       "    }\n",
       "\n",
       "    .dataframe tbody tr th {\n",
       "        vertical-align: top;\n",
       "    }\n",
       "\n",
       "    .dataframe thead th {\n",
       "        text-align: right;\n",
       "    }\n",
       "</style>\n",
       "<table border=\"1\" class=\"dataframe\">\n",
       "  <thead>\n",
       "    <tr style=\"text-align: right;\">\n",
       "      <th></th>\n",
       "      <th>Amount Purchased</th>\n",
       "      <th>Average Purchase Price</th>\n",
       "      <th>Average Purchase Total</th>\n",
       "      <th>Average Purchase Total per Person</th>\n",
       "    </tr>\n",
       "    <tr>\n",
       "      <th>Gender</th>\n",
       "      <th></th>\n",
       "      <th></th>\n",
       "      <th></th>\n",
       "      <th></th>\n",
       "    </tr>\n",
       "  </thead>\n",
       "  <tbody>\n",
       "    <tr>\n",
       "      <td>Female</td>\n",
       "      <td>113</td>\n",
       "      <td>3.203009</td>\n",
       "      <td>361.94</td>\n",
       "      <td>0.464026</td>\n",
       "    </tr>\n",
       "    <tr>\n",
       "      <td>Male</td>\n",
       "      <td>652</td>\n",
       "      <td>3.017853</td>\n",
       "      <td>1967.64</td>\n",
       "      <td>2.522615</td>\n",
       "    </tr>\n",
       "    <tr>\n",
       "      <td>Other / Non-Disclosed</td>\n",
       "      <td>15</td>\n",
       "      <td>3.346000</td>\n",
       "      <td>50.19</td>\n",
       "      <td>0.064346</td>\n",
       "    </tr>\n",
       "  </tbody>\n",
       "</table>\n",
       "</div>"
      ],
      "text/plain": [
       "                       Amount Purchased  Average Purchase Price  \\\n",
       "Gender                                                            \n",
       "Female                              113                3.203009   \n",
       "Male                                652                3.017853   \n",
       "Other / Non-Disclosed                15                3.346000   \n",
       "\n",
       "                       Average Purchase Total  \\\n",
       "Gender                                          \n",
       "Female                                 361.94   \n",
       "Male                                  1967.64   \n",
       "Other / Non-Disclosed                   50.19   \n",
       "\n",
       "                       Average Purchase Total per Person  \n",
       "Gender                                                    \n",
       "Female                                          0.464026  \n",
       "Male                                            2.522615  \n",
       "Other / Non-Disclosed                           0.064346  "
      ]
     },
     "execution_count": 116,
     "metadata": {},
     "output_type": "execute_result"
    }
   ],
   "source": [
    "gender_groupby = purchase_data.groupby(\"Gender\")\n",
    "gender_groupby\n",
    "amount_purchased=gender_groupby[\"Purchase ID\"].count()\n",
    "amount_purchased\n",
    "average_purchase_price=gender_groupby[\"Price\"].mean()\n",
    "average_purchase_total = gender_groupby[\"Price\"].sum()\n",
    "average_purchase_total_per_person = average_purchase_total/player_count\n",
    "\n",
    "purchase_analysis=pd.DataFrame({\"Amount Purchased\": amount_purchased, \n",
    "                                    \"Average Purchase Price\": average_purchase_price,\n",
    "                                    \"Average Purchase Total\":average_purchase_total,\n",
    "                                    \"Average Purchase Total per Person\": average_purchase_total_per_person})\n",
    "purchase_analysis\n"
   ]
  },
  {
   "cell_type": "markdown",
   "metadata": {},
   "source": [
    "## Age Demographics"
   ]
  },
  {
   "cell_type": "markdown",
   "metadata": {},
   "source": [
    "* Establish bins for ages\n",
    "\n",
    "\n",
    "* Categorize the existing players using the age bins. Hint: use pd.cut()\n",
    "\n",
    "\n",
    "* Calculate the numbers and percentages by age group\n",
    "\n",
    "\n",
    "* Create a summary data frame to hold the results\n",
    "\n",
    "\n",
    "* Optional: round the percentage column to two decimal points\n",
    "\n",
    "\n",
    "* Display Age Demographics Table\n"
   ]
  },
  {
   "cell_type": "code",
   "execution_count": 128,
   "metadata": {},
   "outputs": [
    {
     "data": {
      "text/html": [
       "<div>\n",
       "<style scoped>\n",
       "    .dataframe tbody tr th:only-of-type {\n",
       "        vertical-align: middle;\n",
       "    }\n",
       "\n",
       "    .dataframe tbody tr th {\n",
       "        vertical-align: top;\n",
       "    }\n",
       "\n",
       "    .dataframe thead th {\n",
       "        text-align: right;\n",
       "    }\n",
       "</style>\n",
       "<table border=\"1\" class=\"dataframe\">\n",
       "  <thead>\n",
       "    <tr style=\"text-align: right;\">\n",
       "      <th></th>\n",
       "      <th>Purchase ID</th>\n",
       "      <th>SN</th>\n",
       "      <th>Age</th>\n",
       "      <th>Gender</th>\n",
       "      <th>Item ID</th>\n",
       "      <th>Item Name</th>\n",
       "      <th>Price</th>\n",
       "      <th>Age Group</th>\n",
       "    </tr>\n",
       "  </thead>\n",
       "  <tbody>\n",
       "    <tr>\n",
       "      <td>0</td>\n",
       "      <td>0</td>\n",
       "      <td>Lisim78</td>\n",
       "      <td>20</td>\n",
       "      <td>Male</td>\n",
       "      <td>108</td>\n",
       "      <td>Extraction, Quickblade Of Trembling Hands</td>\n",
       "      <td>3.53</td>\n",
       "      <td>20 to 24</td>\n",
       "    </tr>\n",
       "    <tr>\n",
       "      <td>1</td>\n",
       "      <td>1</td>\n",
       "      <td>Lisovynya38</td>\n",
       "      <td>40</td>\n",
       "      <td>Male</td>\n",
       "      <td>143</td>\n",
       "      <td>Frenzied Scimitar</td>\n",
       "      <td>1.56</td>\n",
       "      <td>40 and Over</td>\n",
       "    </tr>\n",
       "    <tr>\n",
       "      <td>2</td>\n",
       "      <td>2</td>\n",
       "      <td>Ithergue48</td>\n",
       "      <td>24</td>\n",
       "      <td>Male</td>\n",
       "      <td>92</td>\n",
       "      <td>Final Critic</td>\n",
       "      <td>4.88</td>\n",
       "      <td>20 to 24</td>\n",
       "    </tr>\n",
       "    <tr>\n",
       "      <td>3</td>\n",
       "      <td>3</td>\n",
       "      <td>Chamassasya86</td>\n",
       "      <td>24</td>\n",
       "      <td>Male</td>\n",
       "      <td>100</td>\n",
       "      <td>Blindscythe</td>\n",
       "      <td>3.27</td>\n",
       "      <td>20 to 24</td>\n",
       "    </tr>\n",
       "    <tr>\n",
       "      <td>4</td>\n",
       "      <td>4</td>\n",
       "      <td>Iskosia90</td>\n",
       "      <td>23</td>\n",
       "      <td>Male</td>\n",
       "      <td>131</td>\n",
       "      <td>Fury</td>\n",
       "      <td>1.44</td>\n",
       "      <td>20 to 24</td>\n",
       "    </tr>\n",
       "  </tbody>\n",
       "</table>\n",
       "</div>"
      ],
      "text/plain": [
       "   Purchase ID             SN  Age Gender  Item ID  \\\n",
       "0            0        Lisim78   20   Male      108   \n",
       "1            1    Lisovynya38   40   Male      143   \n",
       "2            2     Ithergue48   24   Male       92   \n",
       "3            3  Chamassasya86   24   Male      100   \n",
       "4            4      Iskosia90   23   Male      131   \n",
       "\n",
       "                                   Item Name  Price    Age Group  \n",
       "0  Extraction, Quickblade Of Trembling Hands   3.53     20 to 24  \n",
       "1                          Frenzied Scimitar   1.56  40 and Over  \n",
       "2                               Final Critic   4.88     20 to 24  \n",
       "3                                Blindscythe   3.27     20 to 24  \n",
       "4                                       Fury   1.44     20 to 24  "
      ]
     },
     "execution_count": 128,
     "metadata": {},
     "output_type": "execute_result"
    }
   ],
   "source": [
    "#i don't know why this max age formula isn't giving me a single value?\n",
    "#max_age= purchase_data_df[\"Age\"].max\n",
    "#so i will randomly assign my bins\n",
    "age_bins= [0, 9, 14, 19, 24, 29, 34, 39, 999]\n",
    "group_labels=[\"Less than 10\", \"10 to 14\", \"15 to 19\", \"20 to 24\", \"25 to 29\", \"30 to 34\", \n",
    "             \"35 to 39\", \"40 and Over\"]\n",
    "purchase_data[\"Age Group\"]= pd.cut(purchase_data[\"Age\"],age_bins, labels=group_labels)\n",
    "purchase_data.head()\n"
   ]
  },
  {
   "cell_type": "code",
   "execution_count": 138,
   "metadata": {},
   "outputs": [
    {
     "name": "stdout",
     "output_type": "stream",
     "text": [
      "<pandas.core.groupby.generic.DataFrameGroupBy object at 0x000001F209C99400>\n"
     ]
    },
    {
     "data": {
      "text/html": [
       "<div>\n",
       "<style scoped>\n",
       "    .dataframe tbody tr th:only-of-type {\n",
       "        vertical-align: middle;\n",
       "    }\n",
       "\n",
       "    .dataframe tbody tr th {\n",
       "        vertical-align: top;\n",
       "    }\n",
       "\n",
       "    .dataframe thead th {\n",
       "        text-align: right;\n",
       "    }\n",
       "</style>\n",
       "<table border=\"1\" class=\"dataframe\">\n",
       "  <thead>\n",
       "    <tr style=\"text-align: right;\">\n",
       "      <th></th>\n",
       "      <th>Purchase ID</th>\n",
       "      <th>SN</th>\n",
       "      <th>Age</th>\n",
       "      <th>Gender</th>\n",
       "      <th>Item ID</th>\n",
       "      <th>Item Name</th>\n",
       "      <th>Price</th>\n",
       "    </tr>\n",
       "    <tr>\n",
       "      <th>Age Group</th>\n",
       "      <th></th>\n",
       "      <th></th>\n",
       "      <th></th>\n",
       "      <th></th>\n",
       "      <th></th>\n",
       "      <th></th>\n",
       "      <th></th>\n",
       "    </tr>\n",
       "  </thead>\n",
       "  <tbody>\n",
       "    <tr>\n",
       "      <td>Less than 10</td>\n",
       "      <td>23</td>\n",
       "      <td>23</td>\n",
       "      <td>23</td>\n",
       "      <td>23</td>\n",
       "      <td>23</td>\n",
       "      <td>23</td>\n",
       "      <td>23</td>\n",
       "    </tr>\n",
       "    <tr>\n",
       "      <td>10 to 14</td>\n",
       "      <td>28</td>\n",
       "      <td>28</td>\n",
       "      <td>28</td>\n",
       "      <td>28</td>\n",
       "      <td>28</td>\n",
       "      <td>28</td>\n",
       "      <td>28</td>\n",
       "    </tr>\n",
       "    <tr>\n",
       "      <td>15 to 19</td>\n",
       "      <td>136</td>\n",
       "      <td>136</td>\n",
       "      <td>136</td>\n",
       "      <td>136</td>\n",
       "      <td>136</td>\n",
       "      <td>136</td>\n",
       "      <td>136</td>\n",
       "    </tr>\n",
       "    <tr>\n",
       "      <td>20 to 24</td>\n",
       "      <td>365</td>\n",
       "      <td>365</td>\n",
       "      <td>365</td>\n",
       "      <td>365</td>\n",
       "      <td>365</td>\n",
       "      <td>365</td>\n",
       "      <td>365</td>\n",
       "    </tr>\n",
       "    <tr>\n",
       "      <td>25 to 29</td>\n",
       "      <td>101</td>\n",
       "      <td>101</td>\n",
       "      <td>101</td>\n",
       "      <td>101</td>\n",
       "      <td>101</td>\n",
       "      <td>101</td>\n",
       "      <td>101</td>\n",
       "    </tr>\n",
       "    <tr>\n",
       "      <td>30 to 34</td>\n",
       "      <td>73</td>\n",
       "      <td>73</td>\n",
       "      <td>73</td>\n",
       "      <td>73</td>\n",
       "      <td>73</td>\n",
       "      <td>73</td>\n",
       "      <td>73</td>\n",
       "    </tr>\n",
       "    <tr>\n",
       "      <td>35 to 39</td>\n",
       "      <td>41</td>\n",
       "      <td>41</td>\n",
       "      <td>41</td>\n",
       "      <td>41</td>\n",
       "      <td>41</td>\n",
       "      <td>41</td>\n",
       "      <td>41</td>\n",
       "    </tr>\n",
       "    <tr>\n",
       "      <td>40 and Over</td>\n",
       "      <td>13</td>\n",
       "      <td>13</td>\n",
       "      <td>13</td>\n",
       "      <td>13</td>\n",
       "      <td>13</td>\n",
       "      <td>13</td>\n",
       "      <td>13</td>\n",
       "    </tr>\n",
       "  </tbody>\n",
       "</table>\n",
       "</div>"
      ],
      "text/plain": [
       "              Purchase ID   SN  Age  Gender  Item ID  Item Name  Price\n",
       "Age Group                                                             \n",
       "Less than 10           23   23   23      23       23         23     23\n",
       "10 to 14               28   28   28      28       28         28     28\n",
       "15 to 19              136  136  136     136      136        136    136\n",
       "20 to 24              365  365  365     365      365        365    365\n",
       "25 to 29              101  101  101     101      101        101    101\n",
       "30 to 34               73   73   73      73       73         73     73\n",
       "35 to 39               41   41   41      41       41         41     41\n",
       "40 and Over            13   13   13      13       13         13     13"
      ]
     },
     "execution_count": 138,
     "metadata": {},
     "output_type": "execute_result"
    }
   ],
   "source": [
    "#first group by the new Age Group category\n",
    "age_df= purchase_data.groupby([\"Age Group\"])\n",
    "print(age_df)\n",
    "age_df.count()"
   ]
  },
  {
   "cell_type": "code",
   "execution_count": 150,
   "metadata": {
    "scrolled": true
   },
   "outputs": [
    {
     "data": {
      "text/plain": [
       "Age Group\n",
       "Less than 10     2.179487\n",
       "10 to 14         2.820513\n",
       "15 to 19        13.717949\n",
       "20 to 24        33.076923\n",
       "25 to 29         9.871795\n",
       "30 to 34         6.666667\n",
       "35 to 39         3.974359\n",
       "40 and Over      1.538462\n",
       "Name: SN, dtype: float64"
      ]
     },
     "execution_count": 150,
     "metadata": {},
     "output_type": "execute_result"
    }
   ],
   "source": [
    "#count all the unique names within each bin\n",
    "total_age_count = age_df[\"SN\"].nunique()\n",
    "total_age_count\n",
    "#find the percent of total names within each bin\n",
    "percentage_of_players = (total_age_count/player_count)*100\n",
    "percentage_of_players"
   ]
  },
  {
   "cell_type": "code",
   "execution_count": 152,
   "metadata": {},
   "outputs": [
    {
     "data": {
      "text/html": [
       "<div>\n",
       "<style scoped>\n",
       "    .dataframe tbody tr th:only-of-type {\n",
       "        vertical-align: middle;\n",
       "    }\n",
       "\n",
       "    .dataframe tbody tr th {\n",
       "        vertical-align: top;\n",
       "    }\n",
       "\n",
       "    .dataframe thead th {\n",
       "        text-align: right;\n",
       "    }\n",
       "</style>\n",
       "<table border=\"1\" class=\"dataframe\">\n",
       "  <thead>\n",
       "    <tr style=\"text-align: right;\">\n",
       "      <th></th>\n",
       "      <th>Percentage of Players</th>\n",
       "      <th>Total Count</th>\n",
       "    </tr>\n",
       "    <tr>\n",
       "      <th>Age Group</th>\n",
       "      <th></th>\n",
       "      <th></th>\n",
       "    </tr>\n",
       "  </thead>\n",
       "  <tbody>\n",
       "    <tr>\n",
       "      <td>Less than 10</td>\n",
       "      <td>2.179487</td>\n",
       "      <td>17</td>\n",
       "    </tr>\n",
       "    <tr>\n",
       "      <td>10 to 14</td>\n",
       "      <td>2.820513</td>\n",
       "      <td>22</td>\n",
       "    </tr>\n",
       "    <tr>\n",
       "      <td>15 to 19</td>\n",
       "      <td>13.717949</td>\n",
       "      <td>107</td>\n",
       "    </tr>\n",
       "    <tr>\n",
       "      <td>20 to 24</td>\n",
       "      <td>33.076923</td>\n",
       "      <td>258</td>\n",
       "    </tr>\n",
       "    <tr>\n",
       "      <td>25 to 29</td>\n",
       "      <td>9.871795</td>\n",
       "      <td>77</td>\n",
       "    </tr>\n",
       "    <tr>\n",
       "      <td>30 to 34</td>\n",
       "      <td>6.666667</td>\n",
       "      <td>52</td>\n",
       "    </tr>\n",
       "    <tr>\n",
       "      <td>35 to 39</td>\n",
       "      <td>3.974359</td>\n",
       "      <td>31</td>\n",
       "    </tr>\n",
       "    <tr>\n",
       "      <td>40 and Over</td>\n",
       "      <td>1.538462</td>\n",
       "      <td>12</td>\n",
       "    </tr>\n",
       "  </tbody>\n",
       "</table>\n",
       "</div>"
      ],
      "text/plain": [
       "              Percentage of Players  Total Count\n",
       "Age Group                                       \n",
       "Less than 10               2.179487           17\n",
       "10 to 14                   2.820513           22\n",
       "15 to 19                  13.717949          107\n",
       "20 to 24                  33.076923          258\n",
       "25 to 29                   9.871795           77\n",
       "30 to 34                   6.666667           52\n",
       "35 to 39                   3.974359           31\n",
       "40 and Over                1.538462           12"
      ]
     },
     "execution_count": 152,
     "metadata": {},
     "output_type": "execute_result"
    }
   ],
   "source": [
    "age_summary_table=pd.DataFrame({\"Percentage of Players\": percentage_of_players,\n",
    "                               \"Total Count\": total_age_count})\n",
    "age_summary_table"
   ]
  },
  {
   "cell_type": "markdown",
   "metadata": {},
   "source": [
    "## Purchasing Analysis (Age)"
   ]
  },
  {
   "cell_type": "markdown",
   "metadata": {},
   "source": [
    "* Bin the purchase_data data frame by age\n",
    "\n",
    "\n",
    "* Run basic calculations to obtain purchase count, avg. purchase price, avg. purchase total per person etc. in the table below\n",
    "\n",
    "\n",
    "* Create a summary data frame to hold the results\n",
    "\n",
    "\n",
    "* Optional: give the displayed data cleaner formatting\n",
    "\n",
    "\n",
    "* Display the summary data frame"
   ]
  },
  {
   "cell_type": "code",
   "execution_count": 159,
   "metadata": {},
   "outputs": [
    {
     "name": "stdout",
     "output_type": "stream",
     "text": [
      "<pandas.core.groupby.generic.DataFrameGroupBy object at 0x000001F209D42C18>\n"
     ]
    },
    {
     "data": {
      "text/html": [
       "<div>\n",
       "<style scoped>\n",
       "    .dataframe tbody tr th:only-of-type {\n",
       "        vertical-align: middle;\n",
       "    }\n",
       "\n",
       "    .dataframe tbody tr th {\n",
       "        vertical-align: top;\n",
       "    }\n",
       "\n",
       "    .dataframe thead th {\n",
       "        text-align: right;\n",
       "    }\n",
       "</style>\n",
       "<table border=\"1\" class=\"dataframe\">\n",
       "  <thead>\n",
       "    <tr style=\"text-align: right;\">\n",
       "      <th></th>\n",
       "      <th>Amount Purchased</th>\n",
       "      <th>Average Purchase Price</th>\n",
       "      <th>Average Purchase Total</th>\n",
       "      <th>Average Purchase Total per Person</th>\n",
       "    </tr>\n",
       "    <tr>\n",
       "      <th>Age Group</th>\n",
       "      <th></th>\n",
       "      <th></th>\n",
       "      <th></th>\n",
       "      <th></th>\n",
       "    </tr>\n",
       "  </thead>\n",
       "  <tbody>\n",
       "    <tr>\n",
       "      <td>Less than 10</td>\n",
       "      <td>23</td>\n",
       "      <td>3.353478</td>\n",
       "      <td>77.13</td>\n",
       "      <td>0.098885</td>\n",
       "    </tr>\n",
       "    <tr>\n",
       "      <td>10 to 14</td>\n",
       "      <td>28</td>\n",
       "      <td>2.956429</td>\n",
       "      <td>82.78</td>\n",
       "      <td>0.106128</td>\n",
       "    </tr>\n",
       "    <tr>\n",
       "      <td>15 to 19</td>\n",
       "      <td>136</td>\n",
       "      <td>3.035956</td>\n",
       "      <td>412.89</td>\n",
       "      <td>0.529346</td>\n",
       "    </tr>\n",
       "    <tr>\n",
       "      <td>20 to 24</td>\n",
       "      <td>365</td>\n",
       "      <td>3.052219</td>\n",
       "      <td>1114.06</td>\n",
       "      <td>1.428282</td>\n",
       "    </tr>\n",
       "    <tr>\n",
       "      <td>25 to 29</td>\n",
       "      <td>101</td>\n",
       "      <td>2.900990</td>\n",
       "      <td>293.00</td>\n",
       "      <td>0.375641</td>\n",
       "    </tr>\n",
       "    <tr>\n",
       "      <td>30 to 34</td>\n",
       "      <td>73</td>\n",
       "      <td>2.931507</td>\n",
       "      <td>214.00</td>\n",
       "      <td>0.274359</td>\n",
       "    </tr>\n",
       "    <tr>\n",
       "      <td>35 to 39</td>\n",
       "      <td>41</td>\n",
       "      <td>3.601707</td>\n",
       "      <td>147.67</td>\n",
       "      <td>0.189321</td>\n",
       "    </tr>\n",
       "    <tr>\n",
       "      <td>40 and Over</td>\n",
       "      <td>13</td>\n",
       "      <td>2.941538</td>\n",
       "      <td>38.24</td>\n",
       "      <td>0.049026</td>\n",
       "    </tr>\n",
       "  </tbody>\n",
       "</table>\n",
       "</div>"
      ],
      "text/plain": [
       "              Amount Purchased  Average Purchase Price  \\\n",
       "Age Group                                                \n",
       "Less than 10                23                3.353478   \n",
       "10 to 14                    28                2.956429   \n",
       "15 to 19                   136                3.035956   \n",
       "20 to 24                   365                3.052219   \n",
       "25 to 29                   101                2.900990   \n",
       "30 to 34                    73                2.931507   \n",
       "35 to 39                    41                3.601707   \n",
       "40 and Over                 13                2.941538   \n",
       "\n",
       "              Average Purchase Total  Average Purchase Total per Person  \n",
       "Age Group                                                                \n",
       "Less than 10                   77.13                           0.098885  \n",
       "10 to 14                       82.78                           0.106128  \n",
       "15 to 19                      412.89                           0.529346  \n",
       "20 to 24                     1114.06                           1.428282  \n",
       "25 to 29                      293.00                           0.375641  \n",
       "30 to 34                      214.00                           0.274359  \n",
       "35 to 39                      147.67                           0.189321  \n",
       "40 and Over                    38.24                           0.049026  "
      ]
     },
     "execution_count": 159,
     "metadata": {},
     "output_type": "execute_result"
    }
   ],
   "source": [
    "#reidentify age dataframe\n",
    "age_df= purchase_data.groupby([\"Age Group\"])\n",
    "print(age_df)\n",
    "age_df.count()\n",
    "#count number of purchases within each age group\n",
    "age_purchase_count=age_df[\"Purchase ID\"].count()\n",
    "age_purchase_count\n",
    "#calculate the average purchase price within each age group\n",
    "age_average_purchase_price=age_df[\"Price\"].mean()\n",
    "#calculate the average purchase total per person within each age group\n",
    "age_average_purchase_total = age_df[\"Price\"].sum()\n",
    "age_average_purchase_total_per_person= age_average_purchase_total/player_count\n",
    "\n",
    "age_purchase_analysis=pd.DataFrame({\"Amount Purchased\": age_purchase_count, \n",
    "                                    \"Average Purchase Price\": age_average_purchase_price,\n",
    "                                    \"Average Purchase Total\":age_average_purchase_total,\n",
    "                                    \"Average Purchase Total per Person\": age_average_purchase_total_per_person})\n",
    "age_purchase_analysis"
   ]
  },
  {
   "cell_type": "markdown",
   "metadata": {},
   "source": [
    "## Top Spenders"
   ]
  },
  {
   "cell_type": "markdown",
   "metadata": {},
   "source": [
    "* Run basic calculations to obtain the results in the table below\n",
    "\n",
    "\n",
    "* Create a summary data frame to hold the results\n",
    "\n",
    "\n",
    "* Sort the total purchase value column in descending order\n",
    "\n",
    "\n",
    "* Optional: give the displayed data cleaner formatting\n",
    "\n",
    "\n",
    "* Display a preview of the summary data frame\n",
    "\n"
   ]
  },
  {
   "cell_type": "code",
   "execution_count": null,
   "metadata": {},
   "outputs": [],
   "source": []
  },
  {
   "cell_type": "markdown",
   "metadata": {},
   "source": [
    "## Most Popular Items"
   ]
  },
  {
   "cell_type": "markdown",
   "metadata": {},
   "source": [
    "* Retrieve the Item ID, Item Name, and Item Price columns\n",
    "\n",
    "\n",
    "* Group by Item ID and Item Name. Perform calculations to obtain purchase count, item price, and total purchase value\n",
    "\n",
    "\n",
    "* Create a summary data frame to hold the results\n",
    "\n",
    "\n",
    "* Sort the purchase count column in descending order\n",
    "\n",
    "\n",
    "* Optional: give the displayed data cleaner formatting\n",
    "\n",
    "\n",
    "* Display a preview of the summary data frame\n",
    "\n"
   ]
  },
  {
   "cell_type": "code",
   "execution_count": null,
   "metadata": {},
   "outputs": [],
   "source": []
  },
  {
   "cell_type": "markdown",
   "metadata": {},
   "source": [
    "## Most Profitable Items"
   ]
  },
  {
   "cell_type": "markdown",
   "metadata": {},
   "source": [
    "* Sort the above table by total purchase value in descending order\n",
    "\n",
    "\n",
    "* Optional: give the displayed data cleaner formatting\n",
    "\n",
    "\n",
    "* Display a preview of the data frame\n",
    "\n"
   ]
  },
  {
   "cell_type": "code",
   "execution_count": null,
   "metadata": {
    "scrolled": true
   },
   "outputs": [],
   "source": [
    "#observable trends in the data:\n",
    "#1) I would encourage the makers of Heroes of Pymoli to target 20 to 24 year olds since this age group makes more purchases\n",
    "# than any other age group.\n",
    "#2) There are more males who play the game and make purchases. This would influence advertising strategy as well.\n",
    "#3) There is a correlation between the amount purchased and average purchase total. Meaning that if the company could increase\n",
    "# the number of purchases--no matter what those purchases are--then they could boost total revenue."
   ]
  }
 ],
 "metadata": {
  "anaconda-cloud": {},
  "kernel_info": {
   "name": "python3"
  },
  "kernelspec": {
   "display_name": "Python 3",
   "language": "python",
   "name": "python3"
  },
  "language_info": {
   "codemirror_mode": {
    "name": "ipython",
    "version": 3
   },
   "file_extension": ".py",
   "mimetype": "text/x-python",
   "name": "python",
   "nbconvert_exporter": "python",
   "pygments_lexer": "ipython3",
   "version": "3.6.9"
  },
  "latex_envs": {
   "LaTeX_envs_menu_present": true,
   "autoclose": false,
   "autocomplete": true,
   "bibliofile": "biblio.bib",
   "cite_by": "apalike",
   "current_citInitial": 1,
   "eqLabelWithNumbers": true,
   "eqNumInitial": 1,
   "hotkeys": {
    "equation": "Ctrl-E",
    "itemize": "Ctrl-I"
   },
   "labels_anchors": false,
   "latex_user_defs": false,
   "report_style_numbering": false,
   "user_envs_cfg": false
  },
  "nteract": {
   "version": "0.2.0"
  }
 },
 "nbformat": 4,
 "nbformat_minor": 2
}
